{
 "cells": [
  {
   "cell_type": "code",
   "execution_count": 6,
   "id": "3ceab383-3c6a-47d6-8822-098d5e3453d7",
   "metadata": {},
   "outputs": [],
   "source": [
    "%%bash\n",
    "# Save the C code to a file\n",
    "    echo '#include <stdio.h>\n",
    "    int main() {\n",
    "        printf(\"Hello World from C!\\n\");\n",
    "        return 0;\n",
    "}' > hello_world_1.c"
   ]
  },
  {
   "cell_type": "code",
   "execution_count": 7,
   "id": "5b20e567-a2ab-47e3-9829-4756ccd499d7",
   "metadata": {},
   "outputs": [],
   "source": [
    "%%bash\n",
    "# Compile the C code\n",
    "gcc -o out hello_world_1.c"
   ]
  },
  {
   "cell_type": "code",
   "execution_count": 8,
   "id": "133def80-eed6-4760-ab63-e968e0b5868b",
   "metadata": {},
   "outputs": [
    {
     "name": "stdout",
     "output_type": "stream",
     "text": [
      "Hello World from C!\n"
     ]
    }
   ],
   "source": [
    "%%bash\n",
    "# Execute the compiled program\n",
    "./out"
   ]
  },
  {
   "cell_type": "code",
   "execution_count": 9,
   "id": "c340705e-bfda-4a93-aa41-ff07e2a4c089",
   "metadata": {},
   "outputs": [
    {
     "name": "stdout",
     "output_type": "stream",
     "text": [
      "Writing hello_world_2.c\n"
     ]
    }
   ],
   "source": [
    "%%file hello_world_2.c\n",
    "#include <stdio.h>\n",
    "\n",
    "int main() {\n",
    "    printf(\"Hello, Risc-v World!\\n\");\n",
    "    return 0;\n",
    "}"
   ]
  },
  {
   "cell_type": "code",
   "execution_count": 10,
   "id": "777d359a-11e3-4375-af74-84ba22cdc1e9",
   "metadata": {},
   "outputs": [],
   "source": [
    "%%bash\n",
    "gcc -o out hello_world_2.c"
   ]
  },
  {
   "cell_type": "code",
   "execution_count": null,
   "id": "5c433e10-f0f3-4aa1-bd19-e6f1eeb1abbf",
   "metadata": {},
   "outputs": [],
   "source": []
  }
 ],
 "metadata": {
  "kernelspec": {
   "display_name": "Python 3 (ipykernel)",
   "language": "python",
   "name": "python3"
  },
  "language_info": {
   "codemirror_mode": {
    "name": "ipython",
    "version": 3
   },
   "file_extension": ".py",
   "mimetype": "text/x-python",
   "name": "python",
   "nbconvert_exporter": "python",
   "pygments_lexer": "ipython3",
   "version": "3.11.7"
  }
 },
 "nbformat": 4,
 "nbformat_minor": 5
}
